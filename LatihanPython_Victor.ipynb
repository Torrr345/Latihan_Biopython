{
 "cells": [
  {
   "cell_type": "code",
   "execution_count": 3,
   "id": "74063c47-8a0e-4e85-bc0d-b68e5949dfe8",
   "metadata": {},
   "outputs": [
    {
     "name": "stdout",
     "output_type": "stream",
     "text": [
      "{'Count': '33', 'RetMax': '20', 'RetStart': '0', 'IdList': ['2128328870', '2128328868', '1919943519', '1919692825', '1899044946', '1243470866', '1243470864', '1243470862', '1243470860', '1243470858', '1243470856', '1243470854', '1243470852', '158251727', '306440782', '306440772', '306440766', '306440764', '310871907', '310871905'], 'TranslationSet': [{'From': 'Pleurotus ostreatus', 'To': '\"Pleurotus ostreatus\"[Organism] OR Pleurotus ostreatus[All Fields]'}], 'TranslationStack': [{'Term': '\"Pleurotus ostreatus\"[Organism]', 'Field': 'Organism', 'Count': '43155', 'Explode': 'Y'}, {'Term': 'Pleurotus ostreatus[All Fields]', 'Field': 'All Fields', 'Count': '47157', 'Explode': 'N'}, 'OR', 'GROUP', {'Term': 'cox1[All Fields]', 'Field': 'All Fields', 'Count': '482922', 'Explode': 'N'}, 'AND', 'GROUP'], 'QueryTranslation': '(\"Pleurotus ostreatus\"[Organism] OR Pleurotus ostreatus[All Fields]) AND cox1[All Fields]'}\n"
     ]
    }
   ],
   "source": [
    "from Bio import Entrez\n",
    "Entrez.email = \"victorhose123@gmail.com\"\n",
    "\n",
    "#creating handle\n",
    "handle = Entrez.esearch(db=\"nuccore\", term=\"Pleurotus ostreatus cox1\")\n",
    "record = Entrez.read(handle)\n",
    "print(record)\n",
    "handle.close() #always close your handle after you finish"
   ]
  },
  {
   "cell_type": "code",
   "execution_count": 5,
   "id": "acace6e9-46d0-424b-8d0b-64167c7fc7fa",
   "metadata": {},
   "outputs": [
    {
     "name": "stdout",
     "output_type": "stream",
     "text": [
      "LOCUS       KY951527                1517 bp    DNA     linear   PLN 24-SEP-2017\n",
      "DEFINITION  Pleurotus ostreatus voucher FUM-081 cytochrome c oxidase subunit 1\n",
      "            (cox1) gene, partial cds; mitochondrial.\n",
      "ACCESSION   KY951527\n",
      "VERSION     KY951527.1\n",
      "KEYWORDS    .\n",
      "SOURCE      mitochondrion Pleurotus ostreatus (oyster mushroom)\n",
      "  ORGANISM  Pleurotus ostreatus\n",
      "            Eukaryota; Fungi; Dikarya; Basidiomycota; Agaricomycotina;\n",
      "            Agaricomycetes; Agaricomycetidae; Agaricales; Pleurotaceae;\n",
      "            Pleurotus.\n",
      "REFERENCE   1  (bases 1 to 1517)\n",
      "  AUTHORS   Avin,F.A., Subha,B., Tan,Y.S., Braukmann,T.W.A., Vikineswary,S. and\n",
      "            Hebert,P.D.N.\n",
      "  TITLE     Escaping introns in COI through cDNA barcoding of mushrooms:\n",
      "            Pleurotus as a test case\n",
      "  JOURNAL   Ecol Evol 7 (17), 6972-6980 (2017)\n",
      "   PUBMED   28904776\n",
      "  REMARK    Publication Status: Online-Only\n",
      "REFERENCE   2  (bases 1 to 1517)\n",
      "  AUTHORS   Avin,F.A., Subha,B., Tan,Y.S., Braukmann,T.W.A., Vikineswary,S. and\n",
      "            Hebert,P.D.N.\n",
      "  TITLE     Direct Submission\n",
      "  JOURNAL   Submitted (18-APR-2017) Biotechnology, Lincoln University College,\n",
      "            Kelana Jaya, Learning Site Campus, Kuala Lumpur, Petaling Jaya\n",
      "            47301, Malaysia\n",
      "FEATURES             Location/Qualifiers\n",
      "     source          1..1517\n",
      "                     /organism=\"Pleurotus ostreatus\"\n",
      "                     /organelle=\"mitochondrion\"\n",
      "                     /mol_type=\"genomic DNA\"\n",
      "                     /specimen_voucher=\"FUM-081\"\n",
      "                     /db_xref=\"BOLD:CDB005-15.FL-COI\"\n",
      "                     /db_xref=\"taxon:5322\"\n",
      "                     /country=\"Iraq\"\n",
      "                     /identified_by=\"Farhat A. Avin\"\n",
      "     gene            <1..>1517\n",
      "                     /gene=\"cox1\"\n",
      "     CDS             join(<1..720,786..>1517)\n",
      "                     /gene=\"cox1\"\n",
      "                     /EC_number=\"1.9.3.1\"\n",
      "                     /codon_start=2\n",
      "                     /transl_table=4\n",
      "                     /product=\"cytochrome c oxidase subunit 1\"\n",
      "                     /protein_id=\"ATD11576.1\"\n",
      "                     /translation=\"SVFAGMIGTAFSVLIRLELAAPGVQFLQGDHQLFNVIISAHAFI\n",
      "                     MIFFMVMPGLVGGFGNYFLPIHCGAPDMAFPRLNNISFWLLPPSLILLLVSSLVENGA\n",
      "                     GTGWTVYPPLASVQSHSGGSVDLAIFSLHLAGISSLLGAINFITTTLNMRTNGMSLHK\n",
      "                     LPLFVWAIFITAILLLLSLPVLAGAITMLLTDRNFNTSFYDPAGGGDPILYQHLFWFF\n",
      "                     GHPEVYILIIPGFGIVSHIVSTFSGKPIFGYIGMVYAMFSIGILGFLVWSHHMFSVGL\n",
      "                     DVDTRAYFTAATMVIAVPTGIKIFSWLATLYGGSLRYNTPLVFTLGFLALFTIGGVTG\n",
      "                     VVLSNASLDVAFHDTYYVVAHFHYVLSMGAVFALFAGFYYWTPKIVGRTVNDFLGKVH\n",
      "                     FWTLFVGVNLTFFPQHFLGLSGMPRRIPDYPDAFSGWNAISSFGSLVSVAATVLFGYI\n",
      "                     IYDIFANQPACSNNPWAFTPYFSNVNNSETQTV\"\n",
      "ORIGIN      \n",
      "        1 ctcagtattt gctggtatga ttggtactgc tttttcagtc ttaataagat tggaacttgc\n",
      "       61 agctcctggt gttcaatttt tacaaggaga tcatcaatta tttaatgtaa ttatatctgc\n",
      "      121 tcacgcattt attatgattt tctttatggt tatgcctgga ttagtaggag gatttggtaa\n",
      "      181 ttatttctta cctatccact gcggagctcc tgatatggca tttcctagat taaataatat\n",
      "      241 ctccttctgg ttattacctc cttcattaat tttattacta gtaagttcat tagtagaaaa\n",
      "      301 tggagctgga acaggatgga cagtttatcc tcctttagct agtgttcaat ctcactctgg\n",
      "      361 tggttctgtt gatttagcaa tcttcagtct acacttagca ggtatatcat ctttattagg\n",
      "      421 agctattaat tttattacta ctactttaaa tatgagaact aatggaatgt ctctacataa\n",
      "      481 attaccttta tttgtatggg ctattttcat tactgctatt ttattattat tatctttacc\n",
      "      541 tgtattagct ggtgcaatca ctatgctttt aacagataga aactttaata ctagtttcta\n",
      "      601 tgaccctgct gggggtggag atcctatttt ataccaacac cttttttggt tctttggtca\n",
      "      661 cccagaagta tatattttaa taatacctgg ttttggtata gttagtcata ttgtatctac\n",
      "      721 attctcagga aaacctattt ttggatatat cggaatggtg gtatagttag tcatattgta\n",
      "      781 tctacattct caggaaaacc tatttttgga tatatcggaa tggtctatgc aatgttctct\n",
      "      841 atcggaattt taggtttctt agtatggagt caccacatgt tcagtgtagg tttagatgta\n",
      "      901 gatacaagag cttattttac agctgctaca atggttattg ctgttccaac aggaattaaa\n",
      "      961 atcttttctt ggctagcaac attatatggt ggaagtttaa gatataatac tcctttagtt\n",
      "     1021 ttcactttag gattcttagc tcttttcact ataggtggag taaccggagt agtattatct\n",
      "     1081 aatgcaagtt tagatgtagc attccacgat acatattacg tagtcgccca ttttcactat\n",
      "     1141 gtgttatcaa tgggagctgt ttttgcttta tttgccggat tctattattg gactcctaaa\n",
      "     1201 attgtaggta gaactgttaa cgatttctta ggtaaagtac atttctggac tttattcgtg\n",
      "     1261 ggagtaaact taacattctt ccctcaacat ttcttaggtt tatctggtat gcctagaaga\n",
      "     1321 atacctgatt atccagatgc atttagtgga tggaatgcta tttctagttt tgggtcatta\n",
      "     1381 gtttctgtag cagcaactgt attattcggt tatattattt atgatatttt cgctaatcaa\n",
      "     1441 cctgcttgct ctaataaccc ttgggcattc actccttatt tctcaaatgt aaataatagt\n",
      "     1501 gaaactcaaa cagtaaa\n",
      "//\n",
      "\n",
      "\n"
     ]
    }
   ],
   "source": [
    "efetch_handle = Entrez.efetch(db=\"nuccore\", id=\"1243470866\", rettype=\"gb\", retmode=\"text\")\n",
    "gbrecord = efetch_handle.read()\n",
    "print(gbrecord)"
   ]
  },
  {
   "cell_type": "code",
   "execution_count": 6,
   "id": "87d22199-46da-4d39-bb60-0a10f0bc7e42",
   "metadata": {},
   "outputs": [
    {
     "name": "stdout",
     "output_type": "stream",
     "text": [
      ">KY951527.1 Pleurotus ostreatus voucher FUM-081 cytochrome c oxidase subunit 1 (cox1) gene, partial cds; mitochondrial\n",
      "CTCAGTATTTGCTGGTATGATTGGTACTGCTTTTTCAGTCTTAATAAGATTGGAACTTGCAGCTCCTGGT\n",
      "GTTCAATTTTTACAAGGAGATCATCAATTATTTAATGTAATTATATCTGCTCACGCATTTATTATGATTT\n",
      "TCTTTATGGTTATGCCTGGATTAGTAGGAGGATTTGGTAATTATTTCTTACCTATCCACTGCGGAGCTCC\n",
      "TGATATGGCATTTCCTAGATTAAATAATATCTCCTTCTGGTTATTACCTCCTTCATTAATTTTATTACTA\n",
      "GTAAGTTCATTAGTAGAAAATGGAGCTGGAACAGGATGGACAGTTTATCCTCCTTTAGCTAGTGTTCAAT\n",
      "CTCACTCTGGTGGTTCTGTTGATTTAGCAATCTTCAGTCTACACTTAGCAGGTATATCATCTTTATTAGG\n",
      "AGCTATTAATTTTATTACTACTACTTTAAATATGAGAACTAATGGAATGTCTCTACATAAATTACCTTTA\n",
      "TTTGTATGGGCTATTTTCATTACTGCTATTTTATTATTATTATCTTTACCTGTATTAGCTGGTGCAATCA\n",
      "CTATGCTTTTAACAGATAGAAACTTTAATACTAGTTTCTATGACCCTGCTGGGGGTGGAGATCCTATTTT\n",
      "ATACCAACACCTTTTTTGGTTCTTTGGTCACCCAGAAGTATATATTTTAATAATACCTGGTTTTGGTATA\n",
      "GTTAGTCATATTGTATCTACATTCTCAGGAAAACCTATTTTTGGATATATCGGAATGGTGGTATAGTTAG\n",
      "TCATATTGTATCTACATTCTCAGGAAAACCTATTTTTGGATATATCGGAATGGTCTATGCAATGTTCTCT\n",
      "ATCGGAATTTTAGGTTTCTTAGTATGGAGTCACCACATGTTCAGTGTAGGTTTAGATGTAGATACAAGAG\n",
      "CTTATTTTACAGCTGCTACAATGGTTATTGCTGTTCCAACAGGAATTAAAATCTTTTCTTGGCTAGCAAC\n",
      "ATTATATGGTGGAAGTTTAAGATATAATACTCCTTTAGTTTTCACTTTAGGATTCTTAGCTCTTTTCACT\n",
      "ATAGGTGGAGTAACCGGAGTAGTATTATCTAATGCAAGTTTAGATGTAGCATTCCACGATACATATTACG\n",
      "TAGTCGCCCATTTTCACTATGTGTTATCAATGGGAGCTGTTTTTGCTTTATTTGCCGGATTCTATTATTG\n",
      "GACTCCTAAAATTGTAGGTAGAACTGTTAACGATTTCTTAGGTAAAGTACATTTCTGGACTTTATTCGTG\n",
      "GGAGTAAACTTAACATTCTTCCCTCAACATTTCTTAGGTTTATCTGGTATGCCTAGAAGAATACCTGATT\n",
      "ATCCAGATGCATTTAGTGGATGGAATGCTATTTCTAGTTTTGGGTCATTAGTTTCTGTAGCAGCAACTGT\n",
      "ATTATTCGGTTATATTATTTATGATATTTTCGCTAATCAACCTGCTTGCTCTAATAACCCTTGGGCATTC\n",
      "ACTCCTTATTTCTCAAATGTAAATAATAGTGAAACTCAAACAGTAAA\n",
      "\n",
      "\n"
     ]
    }
   ],
   "source": [
    "efetch_handle = Entrez.efetch(db=\"nuccore\", id=\"1243470866\", rettype=\"fasta\", retmode=\"text\")\n",
    "gbrecord = efetch_handle.read()\n",
    "print(gbrecord)"
   ]
  },
  {
   "cell_type": "code",
   "execution_count": 8,
   "id": "2182dedf-d6c8-40ae-abc1-a4301814b0c0",
   "metadata": {},
   "outputs": [
    {
     "name": "stdout",
     "output_type": "stream",
     "text": [
      "FASTA Downloaded\n"
     ]
    }
   ],
   "source": [
    "import os\n",
    "\n",
    "#creating EFetch handle\n",
    "filename = \"Pleurotus ostreatus cox1.fasta\" #up to you, but FASTA files always use *.fasta or *.fas \n",
    "\n",
    "#creating EFetch handle\n",
    "if not os.path.isfile(filename):\n",
    "    # Downloading file...\n",
    "    efetch_handle = Entrez.efetch(db=\"nuccore\", id=\"1243470866\", rettype=\"fasta\", retmode=\"text\")\n",
    "    output_file_handle = open(filename, \"w\")\n",
    "    output_file_handle.write(efetch_handle.read())\n",
    "    output_file_handle.close()\n",
    "    efetch_handle.close()\n",
    "    print(\"FASTA Downloaded\")"
   ]
  },
  {
   "cell_type": "code",
   "execution_count": 9,
   "id": "e063cca2-484f-4270-8fce-4e0e0da5c095",
   "metadata": {},
   "outputs": [
    {
     "name": "stdout",
     "output_type": "stream",
     "text": [
      "GB Downloaded\n"
     ]
    }
   ],
   "source": [
    "#creating EFetch handle\n",
    "filename = \"Pleurotus ostreatus genome.gbk\" #up to you, but Genbank files always use *.gb or *.gbk \n",
    "\n",
    "#creating EFetch handle\n",
    "if not os.path.isfile(filename):\n",
    "    # Downloading file...\n",
    "    efetch_handle = Entrez.efetch(db=\"nuccore\", id=\"158251727\", rettype=\"gb\", retmode=\"text\")\n",
    "    output_file_handle = open(filename, \"w\")\n",
    "    output_file_handle.write(efetch_handle.read())\n",
    "    output_file_handle.close()\n",
    "    efetch_handle.close()\n",
    "    print(\"GB Downloaded\")"
   ]
  },
  {
   "cell_type": "code",
   "execution_count": 2,
   "id": "b2c74b4a-f8d2-4b99-8d77-1b4a6c0013da",
   "metadata": {},
   "outputs": [
    {
     "name": "stdout",
     "output_type": "stream",
     "text": [
      ">cox1|Pleurotus ostreatus mitochondrion, complete genome\n",
      "ATGACAACTTTTTTTGTAAATATTTTAGCTTTAGGTACTTTATTTTCTAGTGTTTTTGCTATTACTTCTAAAAACCCAGTAATTTCAATTATTTTTGTAATTGCCACTTTTGTTCAAGCTGCTGGATACTTAATATTCATTGGTGTTAATTTTATAGGTATTTCTTATATTGTAATATATGTAGGTGCTATCGCTGTATTATTCTTATTTGTAATTATGATGATTAATATTAAACTTACAGATATATTAGAAACAGGAAATCAATATACTAAAAATTTACCTTTAGCTTTAGCAATAGGTTCTTTATTCACATATGTAATATTTACTATTATTCCATTTAATTTAAATAATGTACCTGCATTATCTTTAATCTCAGAATCATTAATTAATTTAAATAGTTTAATATTAAATTCTAATCTTATTTCAAAAGATTTCATTAGTATAATCGTTAATGCTTACTATAATTTATCTCTTTCAGATATTAATATTACAGATTTTACACAAATAGAAACATTAGGATATAGTCTATACACATATGGTGCTATTTTCTTAATTATCTTAAGTGTTATATTATTATTAGCTATGTTAGCTACTATTATTATTTCAAGATCTAATAAATAA\n"
     ]
    }
   ],
   "source": [
    "from Bio import SeqIO\n",
    "\n",
    "GoI = \"cox1\" \n",
    "\n",
    "for genome in SeqIO.parse(\"Pleurotus ostreatus genome.gbk\",\"genbank\"):\n",
    "    for gene in genome.features:\n",
    "        if gene.type != \"CDS\":\n",
    "            continue\n",
    "        if \"gene\" not in gene.qualifiers:\n",
    "            continue\n",
    "        if GoI not in gene.qualifiers[\"gene\"][0]: \n",
    "            continue\n",
    "    gene_seq = gene.extract(genome.seq)\n",
    "\n",
    "GoI_fasta = \">%s|%s\\n%s\" % (GoI, genome.description, gene_seq)\n",
    "print(GoI_fasta)"
   ]
  },
  {
   "cell_type": "code",
   "execution_count": 8,
   "id": "1dd22b50-3101-46ee-9f4b-fd20d5ca036a",
   "metadata": {},
   "outputs": [],
   "source": [
    "from Bio import SeqIO\n",
    "\n",
    "GoI = \"cox1\" \n",
    "\n",
    "for genome in SeqIO.parse(\"Pleurotus ostreatus genome.gbk\",\"genbank\"):\n",
    "    for gene in genome.features:\n",
    "        if gene.type != \"CDS\":\n",
    "            continue\n",
    "        if \"gene\" not in gene.qualifiers:\n",
    "            continue\n",
    "        if GoI not in gene.qualifiers[\"gene\"][0]: \n",
    "            continue\n",
    "    gene_seq = gene.extract(genome.seq)\n",
    "\n",
    "GoI_fasta = \">%s|%s\\n%s\" % (GoI, genome.description, gene_seq)\n",
    "with open(\"GoI_fasta.fasta\",\"w\") as f:\n",
    "    f.write(GoI_fasta)"
   ]
  },
  {
   "cell_type": "code",
   "execution_count": null,
   "id": "3957b320-75b7-472e-b5bf-a55c98fb454b",
   "metadata": {},
   "outputs": [],
   "source": []
  }
 ],
 "metadata": {
  "kernelspec": {
   "display_name": "Python 3 (ipykernel)",
   "language": "python",
   "name": "python3"
  },
  "language_info": {
   "codemirror_mode": {
    "name": "ipython",
    "version": 3
   },
   "file_extension": ".py",
   "mimetype": "text/x-python",
   "name": "python",
   "nbconvert_exporter": "python",
   "pygments_lexer": "ipython3",
   "version": "3.9.7"
  }
 },
 "nbformat": 4,
 "nbformat_minor": 5
}
